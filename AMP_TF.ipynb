{
 "cells": [
  {
   "cell_type": "code",
   "execution_count": 1,
   "metadata": {},
   "outputs": [],
   "source": [
    "import time\n",
    "import numpy as np\n",
    "\n",
    "import tensorflow.compat.v2 as tf\n",
    "tf.enable_v2_behavior()\n",
    "\n",
    "from tensorflow.keras.models import Sequential\n",
    "from tensorflow.keras.layers import *"
   ]
  },
  {
   "cell_type": "code",
   "execution_count": 2,
   "metadata": {},
   "outputs": [
    {
     "name": "stdout",
     "output_type": "stream",
     "text": [
      "TensorFlow version is 1.15.0\n",
      "Tensor Core GPU Present: True\n"
     ]
    }
   ],
   "source": [
    "from tensorflow.python.client import device_lib\n",
    "\n",
    "def check_tensor_core_gpu_present():\n",
    "    local_device_protos = device_lib.list_local_devices()\n",
    "    for line in local_device_protos:\n",
    "        if \"compute capability\" in str(line):\n",
    "            compute_capability = float(line.physical_device_desc.split(\"compute capability: \")[-1])\n",
    "            if compute_capability>=7.0:\n",
    "                return True\n",
    "\n",
    "print(\"TensorFlow version is\", tf.__version__)\n",
    "\n",
    "try:\n",
    "    # check and assert TensorFlow >= 1.14\n",
    "    tf_version_list = tf.__version__.split(\".\")\n",
    "    if int(tf_version_list[0]) < 2:\n",
    "        assert int(tf_version_list[1]) >= 14\n",
    "except:\n",
    "    print(\"TensorFlow 1.14.0 or newer is required.\")\n",
    "    \n",
    "print(\"Tensor Core GPU Present:\", check_tensor_core_gpu_present())\n",
    "if check_tensor_core_gpu_present():\n",
    "    pass\n",
    "else:\n",
    "    !nvidia-smi\n",
    "    assert check_tensor_core_gpu_present() == True"
   ]
  },
  {
   "cell_type": "code",
   "execution_count": 3,
   "metadata": {},
   "outputs": [],
   "source": [
    "# The data, split between train and test sets\n",
    "\n",
    "(x_train, y_train), (x_test, y_test) = tf.keras.datasets.cifar10.load_data()\n",
    "\n",
    "num_classes = np.max(y_train) + 1\n",
    "\n",
    "# Convert class vectors to binary class matrices\n",
    "\n",
    "y_train = tf.keras.utils.to_categorical(y_train, num_classes)\n",
    "y_test = tf.keras.utils.to_categorical(y_test, num_classes)"
   ]
  },
  {
   "cell_type": "code",
   "execution_count": 4,
   "metadata": {},
   "outputs": [],
   "source": [
    "def normalize(ndarray):\n",
    "    ndarray = ndarray.astype(\"float32\")\n",
    "    ndarray = ndarray/255.0\n",
    "    return ndarray\n",
    "\n",
    "x_train = normalize(x_train)\n",
    "x_test = normalize(x_test)"
   ]
  },
  {
   "cell_type": "code",
   "execution_count": 5,
   "metadata": {},
   "outputs": [],
   "source": [
    "def create_model(num_classes=10):\n",
    "    \"\"\"\n",
    "    Returns a simple CNN suitable for classifiying images from CIFAR10\n",
    "    \"\"\"\n",
    "    # model parameters\n",
    "    act = \"relu\"\n",
    "    pad = \"same\"\n",
    "    ini = \"he_uniform\"\n",
    "    \n",
    "    model = tf.keras.models.Sequential([\n",
    "        Conv2D(128, (3, 3), activation=act, padding=pad, kernel_initializer=ini,\n",
    "               input_shape=(32,32,3)),\n",
    "        Conv2D(256, (3, 3), activation=act, padding=pad, kernel_initializer=ini),\n",
    "        Conv2D(256, (3, 3), activation=act, padding=pad, kernel_initializer=ini),\n",
    "        Conv2D(256, (3, 3), activation=act, padding=pad, kernel_initializer=ini),\n",
    "        MaxPooling2D(pool_size=(2,2)),\n",
    "        Conv2D(256, (3, 3), activation=act, padding=pad, kernel_initializer=ini),\n",
    "        Conv2D(256, (3, 3), activation=act, padding=pad, kernel_initializer=ini),\n",
    "        Conv2D(512, (3, 3), activation=act, padding=pad, kernel_initializer=ini),\n",
    "        Conv2D(512, (3, 3), activation=act, padding=pad, kernel_initializer=ini),\n",
    "        MaxPooling2D(pool_size=(2,2)),\n",
    "        Conv2D(256, (3, 3), activation=act, padding=pad, kernel_initializer=ini),\n",
    "        Conv2D(256, (3, 3), activation=act, padding=pad, kernel_initializer=ini),\n",
    "        Conv2D(256, (3, 3), activation=act, padding=pad, kernel_initializer=ini),\n",
    "        Conv2D(128, (3, 3), activation=act, padding=pad, kernel_initializer=ini),\n",
    "        MaxPooling2D(pool_size=(4,4)),\n",
    "        Flatten(),\n",
    "        BatchNormalization(),\n",
    "        Dense(512, activation='relu'),\n",
    "        Dense(num_classes, activation=\"softmax\")\n",
    "    ])\n",
    "\n",
    "    return model"
   ]
  },
  {
   "cell_type": "code",
   "execution_count": 6,
   "metadata": {},
   "outputs": [
    {
     "name": "stdout",
     "output_type": "stream",
     "text": [
      "Model: \"sequential\"\n",
      "_________________________________________________________________\n",
      "Layer (type)                 Output Shape              Param #   \n",
      "=================================================================\n",
      "conv2d (Conv2D)              (None, 32, 32, 128)       3584      \n",
      "_________________________________________________________________\n",
      "conv2d_1 (Conv2D)            (None, 32, 32, 256)       295168    \n",
      "_________________________________________________________________\n",
      "conv2d_2 (Conv2D)            (None, 32, 32, 256)       590080    \n",
      "_________________________________________________________________\n",
      "conv2d_3 (Conv2D)            (None, 32, 32, 256)       590080    \n",
      "_________________________________________________________________\n",
      "max_pooling2d (MaxPooling2D) (None, 16, 16, 256)       0         \n",
      "_________________________________________________________________\n",
      "conv2d_4 (Conv2D)            (None, 16, 16, 256)       590080    \n",
      "_________________________________________________________________\n",
      "conv2d_5 (Conv2D)            (None, 16, 16, 256)       590080    \n",
      "_________________________________________________________________\n",
      "conv2d_6 (Conv2D)            (None, 16, 16, 512)       1180160   \n",
      "_________________________________________________________________\n",
      "conv2d_7 (Conv2D)            (None, 16, 16, 512)       2359808   \n",
      "_________________________________________________________________\n",
      "max_pooling2d_1 (MaxPooling2 (None, 8, 8, 512)         0         \n",
      "_________________________________________________________________\n",
      "conv2d_8 (Conv2D)            (None, 8, 8, 256)         1179904   \n",
      "_________________________________________________________________\n",
      "conv2d_9 (Conv2D)            (None, 8, 8, 256)         590080    \n",
      "_________________________________________________________________\n",
      "conv2d_10 (Conv2D)           (None, 8, 8, 256)         590080    \n",
      "_________________________________________________________________\n",
      "conv2d_11 (Conv2D)           (None, 8, 8, 128)         295040    \n",
      "_________________________________________________________________\n",
      "max_pooling2d_2 (MaxPooling2 (None, 2, 2, 128)         0         \n",
      "_________________________________________________________________\n",
      "flatten (Flatten)            (None, 512)               0         \n",
      "_________________________________________________________________\n",
      "batch_normalization (BatchNo (None, 512)               2048      \n",
      "_________________________________________________________________\n",
      "dense (Dense)                (None, 512)               262656    \n",
      "_________________________________________________________________\n",
      "dense_1 (Dense)              (None, 10)                5130      \n",
      "=================================================================\n",
      "Total params: 9,123,978\n",
      "Trainable params: 9,122,954\n",
      "Non-trainable params: 1,024\n",
      "_________________________________________________________________\n"
     ]
    }
   ],
   "source": [
    "model = create_model(num_classes)\n",
    "model.summary()"
   ]
  },
  {
   "cell_type": "code",
   "execution_count": 14,
   "metadata": {},
   "outputs": [],
   "source": [
    "# training parameters\n",
    "BATCH_SIZE = 320\n",
    "N_EPOCHS = 1\n",
    "opt = tf.keras.optimizers.SGD(learning_rate=0.02, momentum=0.5)"
   ]
  },
  {
   "cell_type": "code",
   "execution_count": 21,
   "metadata": {},
   "outputs": [],
   "source": [
    "def train_model(mixed_precision, optimizer):\n",
    "    \"\"\"\n",
    "    Trains a CNN to classify images on CIFAR10,\n",
    "    and returns the training and classification performance\n",
    "    \n",
    "    Args:\n",
    "        mixed_precision: `True` or `False`\n",
    "        optimizer: An instance of `tf.keras.optimizers.Optimizer`\n",
    "    \"\"\"\n",
    "    model = create_model(num_classes)\n",
    "\n",
    "    if mixed_precision:\n",
    "        import tensorflow\n",
    "        optimizer = tensorflow.compat.v1.train.experimental.enable_mixed_precision_graph_rewrite(optimizer)\n",
    "\n",
    "    model.compile(loss=\"categorical_crossentropy\",\n",
    "                  optimizer=optimizer,\n",
    "                  metrics=[\"accuracy\"])\n",
    "    \n",
    "    train_start = time.time()\n",
    "    \n",
    "\n",
    "    train_log = model.fit(x_train, y_train,\n",
    "                          batch_size=BATCH_SIZE,\n",
    "                          epochs=N_EPOCHS,\n",
    "                          use_multiprocessing=True,\n",
    "                          workers=2)\n",
    "    \n",
    "\n",
    "    train_end = time.time()\n",
    "    score=model.evaluate(x_test,y_test,verbose=0)\n",
    "    \n",
    "    #results = #{\"test_loss\": score[0],\n",
    "               #\"test_acc\": score[1],\n",
    "               #\"train_time\": train_end-train_start,\n",
    "               #\"train_log\": train_log}\n",
    "    results = {\"test_loss\": score[0],\n",
    "               \"test_acc\": score[1],\n",
    "               \"train_time\": train_end-train_start,\n",
    "               \"train_log\": train_log}\n",
    "    \n",
    "    return results"
   ]
  },
  {
   "cell_type": "code",
   "execution_count": 23,
   "metadata": {},
   "outputs": [
    {
     "name": "stdout",
     "output_type": "stream",
     "text": [
      "Train on 50000 samples\n",
      "50000/50000 [==============================] - 21s 422us/sample - loss: 1.7375 - accuracy: 0.3658\n",
      "27.5 % achieved in 26.6 seconds\n"
     ]
    }
   ],
   "source": [
    "fp32_results = train_model(mixed_precision=False, optimizer=opt)\n",
    "\n",
    "test_acc = round(fp32_results[\"test_acc\"]*100, 1)\n",
    "train_time = round(fp32_results[\"train_time\"], 1)\n",
    "\n",
    "print(test_acc, \"% achieved in\", train_time, \"seconds\")"
   ]
  },
  {
   "cell_type": "code",
   "execution_count": 10,
   "metadata": {},
   "outputs": [],
   "source": [
    "# to ensure accuracy of timing benchmark\n",
    "# we give the GPU 10 seconds to cool down\n",
    "\n",
    "tf.keras.backend.clear_session()\n",
    "\n",
    "time.sleep(10)"
   ]
  },
  {
   "cell_type": "code",
   "execution_count": 11,
   "metadata": {},
   "outputs": [
    {
     "name": "stdout",
     "output_type": "stream",
     "text": [
      "im here\n",
      "started\n",
      "st_time:  1600611685.4141238\n",
      "Train on 50000 samples\n",
      "Epoch 1/10\n",
      "50000/50000 [==============================] - 25s 505us/sample - loss: 1.7807 - accuracy: 0.3497\n",
      "Epoch 2/10\n",
      "50000/50000 [==============================] - 22s 439us/sample - loss: 1.2834 - accuracy: 0.5393\n",
      "Epoch 3/10\n",
      "50000/50000 [==============================] - 22s 434us/sample - loss: 1.0291 - accuracy: 0.6336\n",
      "Epoch 4/10\n",
      "50000/50000 [==============================] - 22s 441us/sample - loss: 0.8596 - accuracy: 0.6950\n",
      "Epoch 5/10\n",
      "50000/50000 [==============================] - 22s 440us/sample - loss: 0.7354 - accuracy: 0.7424\n",
      "Epoch 6/10\n",
      "50000/50000 [==============================] - 22s 449us/sample - loss: 0.6386 - accuracy: 0.7766\n",
      "Epoch 7/10\n",
      "50000/50000 [==============================] - 22s 438us/sample - loss: 0.5585 - accuracy: 0.8059\n",
      "Epoch 8/10\n",
      "50000/50000 [==============================] - 22s 442us/sample - loss: 0.4795 - accuracy: 0.8340\n",
      "Epoch 9/10\n",
      "50000/50000 [==============================] - 22s 431us/sample - loss: 0.4097 - accuracy: 0.8610\n",
      "Epoch 10/10\n",
      "50000/50000 [==============================] - 22s 441us/sample - loss: 0.3395 - accuracy: 0.8858\n",
      "end\n",
      "st_time:  1600611914.218073\n",
      "i came \n",
      "test_acc, \"% achieved in\" 228.8 seconds\n"
     ]
    }
   ],
   "source": [
    "mp_results = train_model(mixed_precision=True, optimizer=opt)\n",
    "\n",
    "#test_acc = round(mp_results[\"test_acc\"]*100, 1)\n",
    "train_time = round(mp_results[\"train_time\"], 1)\n",
    "\n",
    "print('test_acc, \"% achieved in\"', train_time, \"seconds\")"
   ]
  },
  {
   "cell_type": "code",
   "execution_count": 12,
   "metadata": {},
   "outputs": [
    {
     "data": {
      "image/png": "[encoded data removed]",
      "text/plain": [
       "<Figure size 432x288 with 1 Axes>"
      ]
     },
     "metadata": {
      "needs_background": "light"
     },
     "output_type": "display_data"
    }
   ],
   "source": [
    "import matplotlib.pyplot as plt\n",
    "%matplotlib inline\n",
    "\n",
    "plt.plot(fp32_results[\"train_log\"].history[\"loss\"], label=\"FP32\")\n",
    "plt.plot(mp_results[\"train_log\"].history[\"loss\"], label=\"Mixed Precision\")\n",
    "plt.title(\"Performance Comparison\")\n",
    "plt.ylabel(\"Training Loss\")\n",
    "plt.xlabel(\"Epoch\")\n",
    "plt.legend()\n",
    "plt.show()"
   ]
  },
  {
   "cell_type": "code",
   "execution_count": 13,
   "metadata": {},
   "outputs": [
    {
     "name": "stdout",
     "output_type": "stream",
     "text": [
      "Performance Improvement: 75 %\n"
     ]
    }
   ],
   "source": [
    "speed_up = int(100 * fp32_results[\"train_time\"]/mp_results[\"train_time\"]) - 100\n",
    "\n",
    "print(\"Performance Improvement:\", speed_up, \"%\")"
   ]
  },
  {
   "cell_type": "code",
   "execution_count": null,
   "metadata": {},
   "outputs": [],
   "source": []
  }
 ],
 "metadata": {
  "kernelspec": {
   "display_name": "Python 3",
   "language": "python",
   "name": "python3"
  },
  "language_info": {
   "codemirror_mode": {
    "name": "ipython",
    "version": 3
   },
   "file_extension": ".py",
   "mimetype": "text/x-python",
   "name": "python",
   "nbconvert_exporter": "python",
   "pygments_lexer": "ipython3",
   "version": "3.6.8"
  }
 },
 "nbformat": 4,
 "nbformat_minor": 2
}
